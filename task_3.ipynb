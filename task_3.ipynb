{
  "cells": [
    {
      "cell_type": "markdown",
      "metadata": {
        "id": "v3zEpDVpmiwQ"
      },
      "source": [
        "\n",
        " ### **Task 3: SB3**\n",
        "- Implement a **SB3** agent in the env of your choice\n"
      ]
    },
    {
      "cell_type": "code",
      "execution_count": 2,
      "metadata": {
        "colab": {
          "base_uri": "https://localhost:8080/"
        },
        "id": "eXp_nmw4mnla",
        "outputId": "d7c118fe-14fa-4e4b-d2aa-0d5d8d7cc8f6"
      },
      "outputs": [],
      "source": [
        "# ! pip install pygame\n",
        "# ! pip install gymnasium\n",
        "# ! pip install torch\n",
        "# ! pip install highway_env\n",
        "# ! pip install stable-baselines3\n",
        "# ! pip install tensorboard\n"
      ]
    },
    {
      "cell_type": "code",
      "execution_count": 3,
      "metadata": {
        "id": "KbmWJ-5rmiwU"
      },
      "outputs": [],
      "source": [
        "import gymnasium as gym\n",
        "import matplotlib.pyplot as plt\n",
        "import highway_env\n",
        "import numpy as np\n",
        "import tensorboard\n",
        "from stable_baselines3 import DQN\n",
        "\n",
        "from configs.config_sb3 import config_dict as config_dict_sdb3\n"
      ]
    },
    {
      "cell_type": "code",
      "execution_count": 5,
      "metadata": {
        "colab": {
          "base_uri": "https://localhost:8080/"
        },
        "id": "_WIK3dI_miwW",
        "outputId": "9ff97097-219c-494c-d4b2-2e7770c4c04a"
      },
      "outputs": [
        {
          "data": {
            "image/png": "[encoded data removed]",
            "text/plain": [
              "<Figure size 640x480 with 1 Axes>"
            ]
          },
          "metadata": {},
          "output_type": "display_data"
        }
      ],
      "source": [
        "env = gym.make(\"highway-fast-v0\", render_mode=\"rgb_array\")\n",
        "env.unwrapped.configure(config_dict_sdb3)\n",
        "env.reset()\n",
        "plt.imshow(env.render())\n",
        "plt.show()"
      ]
    },
    {
      "cell_type": "code",
      "execution_count": 6,
      "metadata": {},
      "outputs": [
        {
          "name": "stdout",
          "output_type": "stream",
          "text": [
            "Using cuda device\n",
            "Wrapping the env with a `Monitor` wrapper\n",
            "Wrapping the env in a DummyVecEnv.\n"
          ]
        }
      ],
      "source": [
        "\n",
        "model = DQN('MlpPolicy', env,\n",
        "              policy_kwargs=dict(net_arch=[256, 256]),\n",
        "              learning_rate=5e-4,\n",
        "              buffer_size=15000,\n",
        "              learning_starts=200,\n",
        "              batch_size=32,\n",
        "              gamma=0.8,\n",
        "              train_freq=1,\n",
        "              gradient_steps=1,\n",
        "              target_update_interval=50,\n",
        "              verbose=1,\n",
        "              tensorboard_log=\"highway_dqn/\")"
      ]
    },
    {
      "cell_type": "code",
      "execution_count": 7,
      "metadata": {
        "colab": {
          "base_uri": "https://localhost:8080/"
        },
        "id": "oSW_0ep2miwZ",
        "outputId": "d88ea091-29c6-40af-fb99-edba7546806a"
      },
      "outputs": [
        {
          "name": "stdout",
          "output_type": "stream",
          "text": [
            "Logging to highway_dqn/DQN_3\n",
            "----------------------------------\n",
            "| rollout/            |          |\n",
            "|    ep_len_mean      | 22       |\n",
            "|    ep_rew_mean      | 17.5     |\n",
            "|    exploration_rate | 0.164    |\n",
            "| time/               |          |\n",
            "|    episodes         | 4        |\n",
            "|    fps              | 5        |\n",
            "|    time_elapsed     | 15       |\n",
            "|    total_timesteps  | 88       |\n",
            "----------------------------------\n",
            "----------------------------------\n",
            "| rollout/            |          |\n",
            "|    ep_len_mean      | 25.1     |\n",
            "|    ep_rew_mean      | 19.4     |\n",
            "|    exploration_rate | 0.05     |\n",
            "| time/               |          |\n",
            "|    episodes         | 8        |\n",
            "|    fps              | 5        |\n",
            "|    time_elapsed     | 35       |\n",
            "|    total_timesteps  | 201      |\n",
            "----------------------------------\n",
            "----------------------------------\n",
            "| rollout/            |          |\n",
            "|    ep_len_mean      | 23.8     |\n",
            "|    ep_rew_mean      | 18.2     |\n",
            "|    exploration_rate | 0.05     |\n",
            "| time/               |          |\n",
            "|    episodes         | 12       |\n",
            "|    fps              | 5        |\n",
            "|    time_elapsed     | 48       |\n",
            "|    total_timesteps  | 285      |\n",
            "| train/              |          |\n",
            "|    learning_rate    | 0.0005   |\n",
            "|    loss             | 0.0472   |\n",
            "|    n_updates        | 84       |\n",
            "----------------------------------\n",
            "----------------------------------\n",
            "| rollout/            |          |\n",
            "|    ep_len_mean      | 21.5     |\n",
            "|    ep_rew_mean      | 16.2     |\n",
            "|    exploration_rate | 0.05     |\n",
            "| time/               |          |\n",
            "|    episodes         | 16       |\n",
            "|    fps              | 5        |\n",
            "|    time_elapsed     | 60       |\n",
            "|    total_timesteps  | 344      |\n",
            "| train/              |          |\n",
            "|    learning_rate    | 0.0005   |\n",
            "|    loss             | 0.0188   |\n",
            "|    n_updates        | 143      |\n",
            "----------------------------------\n",
            "----------------------------------\n",
            "| rollout/            |          |\n",
            "|    ep_len_mean      | 19.9     |\n",
            "|    ep_rew_mean      | 15       |\n",
            "|    exploration_rate | 0.05     |\n",
            "| time/               |          |\n",
            "|    episodes         | 20       |\n",
            "|    fps              | 5        |\n",
            "|    time_elapsed     | 70       |\n",
            "|    total_timesteps  | 398      |\n",
            "| train/              |          |\n",
            "|    learning_rate    | 0.0005   |\n",
            "|    loss             | 0.0767   |\n",
            "|    n_updates        | 197      |\n",
            "----------------------------------\n",
            "----------------------------------\n",
            "| rollout/            |          |\n",
            "|    ep_len_mean      | 18.7     |\n",
            "|    ep_rew_mean      | 14.2     |\n",
            "|    exploration_rate | 0.05     |\n",
            "| time/               |          |\n",
            "|    episodes         | 24       |\n",
            "|    fps              | 5        |\n",
            "|    time_elapsed     | 80       |\n",
            "|    total_timesteps  | 448      |\n",
            "| train/              |          |\n",
            "|    learning_rate    | 0.0005   |\n",
            "|    loss             | 0.0226   |\n",
            "|    n_updates        | 247      |\n",
            "----------------------------------\n",
            "----------------------------------\n",
            "| rollout/            |          |\n",
            "|    ep_len_mean      | 17.7     |\n",
            "|    ep_rew_mean      | 13.6     |\n",
            "|    exploration_rate | 0.05     |\n",
            "| time/               |          |\n",
            "|    episodes         | 28       |\n",
            "|    fps              | 4        |\n",
            "|    time_elapsed     | 100      |\n",
            "|    total_timesteps  | 496      |\n",
            "| train/              |          |\n",
            "|    learning_rate    | 0.0005   |\n",
            "|    loss             | 0.0591   |\n",
            "|    n_updates        | 295      |\n",
            "----------------------------------\n",
            "----------------------------------\n",
            "| rollout/            |          |\n",
            "|    ep_len_mean      | 18       |\n",
            "|    ep_rew_mean      | 13.6     |\n",
            "|    exploration_rate | 0.05     |\n",
            "| time/               |          |\n",
            "|    episodes         | 32       |\n",
            "|    fps              | 4        |\n",
            "|    time_elapsed     | 117      |\n",
            "|    total_timesteps  | 575      |\n",
            "| train/              |          |\n",
            "|    learning_rate    | 0.0005   |\n",
            "|    loss             | 0.0816   |\n",
            "|    n_updates        | 374      |\n",
            "----------------------------------\n",
            "----------------------------------\n",
            "| rollout/            |          |\n",
            "|    ep_len_mean      | 18.9     |\n",
            "|    ep_rew_mean      | 14.6     |\n",
            "|    exploration_rate | 0.05     |\n",
            "| time/               |          |\n",
            "|    episodes         | 36       |\n",
            "|    fps              | 4        |\n",
            "|    time_elapsed     | 145      |\n",
            "|    total_timesteps  | 681      |\n",
            "| train/              |          |\n",
            "|    learning_rate    | 0.0005   |\n",
            "|    loss             | 0.0297   |\n",
            "|    n_updates        | 480      |\n",
            "----------------------------------\n",
            "----------------------------------\n",
            "| rollout/            |          |\n",
            "|    ep_len_mean      | 20.8     |\n",
            "|    ep_rew_mean      | 16       |\n",
            "|    exploration_rate | 0.05     |\n",
            "| time/               |          |\n",
            "|    episodes         | 40       |\n",
            "|    fps              | 4        |\n",
            "|    time_elapsed     | 189      |\n",
            "|    total_timesteps  | 831      |\n",
            "| train/              |          |\n",
            "|    learning_rate    | 0.0005   |\n",
            "|    loss             | 0.0283   |\n",
            "|    n_updates        | 630      |\n",
            "----------------------------------\n",
            "----------------------------------\n",
            "| rollout/            |          |\n",
            "|    ep_len_mean      | 20.7     |\n",
            "|    ep_rew_mean      | 16.1     |\n",
            "|    exploration_rate | 0.05     |\n",
            "| time/               |          |\n",
            "|    episodes         | 44       |\n",
            "|    fps              | 4        |\n",
            "|    time_elapsed     | 210      |\n",
            "|    total_timesteps  | 911      |\n",
            "| train/              |          |\n",
            "|    learning_rate    | 0.0005   |\n",
            "|    loss             | 0.147    |\n",
            "|    n_updates        | 710      |\n",
            "----------------------------------\n"
          ]
        }
      ],
      "source": [
        "\n",
        "model.learn(int(1e3))\n",
        "model.save(\"highway_dqn/model\")"
      ]
    },
    {
      "cell_type": "code",
      "execution_count": 8,
      "metadata": {},
      "outputs": [],
      "source": [
        "# Load and test saved model\n",
        "model = DQN.load(\"highway_dqn/model\")"
      ]
    },
    {
      "cell_type": "code",
      "execution_count": 12,
      "metadata": {},
      "outputs": [
        {
          "name": "stdout",
          "output_type": "stream",
          "text": [
            "Evaluating episode 1/3\n",
            "Evaluating episode 2/3\n",
            "Evaluating episode 3/3\n",
            "Mean Reward: 139.04 ± 40.79\n",
            "Success Rate: 66.67%\n"
          ]
        }
      ],
      "source": [
        "# Performance evaluation of the model\n",
        "\n",
        "def evaluate_agent(env, agent, n_episodes=3):\n",
        "    total_rewards = []\n",
        "    n_successes = 0\n",
        "    for episode in range(n_episodes):\n",
        "        print(f\"Evaluating episode {episode + 1}/{n_episodes}\")\n",
        "        obs, info = env.reset()\n",
        "        done = False\n",
        "        total_reward = 0\n",
        "        n_step = 0\n",
        "        while not done:\n",
        "            n_step+=1\n",
        "            action, _states = model.predict(obs, deterministic=True)\n",
        "            obs, reward, done, truncated, info = env.step(action)\n",
        "            total_reward += reward\n",
        "            if n_step > 200:\n",
        "                done = True\n",
        "        total_rewards.append(total_reward)\n",
        "        if not info['crashed']:\n",
        "            n_successes += 1\n",
        "    return np.mean(total_rewards), np.std(total_rewards), n_successes / n_episodes\n",
        "\n",
        "# Evaluate the agent\n",
        "mean_reward, std_reward, success_rate = evaluate_agent(env, model)\n",
        "print(f\"Mean Reward: {mean_reward:.2f} ± {std_reward:.2f}\")\n",
        "print(f\"Success Rate: {success_rate:.2%}\")"
      ]
    },
    {
      "cell_type": "markdown",
      "metadata": {},
      "source": [
        "Visualisation"
      ]
    },
    {
      "cell_type": "code",
      "execution_count": null,
      "metadata": {
        "id": "TAJjEH83miwb"
      },
      "outputs": [],
      "source": [
        "while True:\n",
        "  done = truncated = False\n",
        "  obs, info = env.reset()\n",
        "  while not (done or truncated):\n",
        "    action, _states = model.predict(obs, deterministic=True)\n",
        "    obs, reward, done, truncated, info = env.step(action)\n",
        "    env.render()"
      ]
    },
    {
      "cell_type": "code",
      "execution_count": null,
      "metadata": {},
      "outputs": [],
      "source": []
    }
  ],
  "metadata": {
    "colab": {
      "provenance": []
    },
    "kernelspec": {
      "display_name": "dl-env",
      "language": "python",
      "name": "python3"
    },
    "language_info": {
      "codemirror_mode": {
        "name": "ipython",
        "version": 3
      },
      "file_extension": ".py",
      "mimetype": "text/x-python",
      "name": "python",
      "nbconvert_exporter": "python",
      "pygments_lexer": "ipython3",
      "version": "3.12.3"
    }
  },
  "nbformat": 4,
  "nbformat_minor": 0
}
